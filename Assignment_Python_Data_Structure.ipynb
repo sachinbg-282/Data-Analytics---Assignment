{
  "nbformat": 4,
  "nbformat_minor": 0,
  "metadata": {
    "colab": {
      "provenance": [],
      "toc_visible": true,
      "authorship_tag": "ABX9TyNGORl8CHbJ5Z6lREfJfXYg",
      "include_colab_link": true
    },
    "kernelspec": {
      "name": "python3",
      "display_name": "Python 3"
    },
    "language_info": {
      "name": "python"
    }
  },
  "cells": [
    {
      "cell_type": "markdown",
      "metadata": {
        "id": "view-in-github",
        "colab_type": "text"
      },
      "source": [
        "<a href=\"https://colab.research.google.com/github/sachinbg-282/Data-Analytics---Assignment/blob/main/Assignment_Python_Data_Structure.ipynb\" target=\"_parent\"><img src=\"https://colab.research.google.com/assets/colab-badge.svg\" alt=\"Open In Colab\"/></a>"
      ]
    },
    {
      "cell_type": "code",
      "execution_count": null,
      "metadata": {
        "id": "hB_EhLMV-dPk"
      },
      "outputs": [],
      "source": []
    },
    {
      "cell_type": "markdown",
      "source": [
        "# Python Data Structure - Assignment\n"
      ],
      "metadata": {
        "id": "4779yapNjjkB"
      }
    },
    {
      "cell_type": "markdown",
      "source": [
        "## Q1\n",
        "Discuss string slicing and provide examples\n",
        "# Answer\n",
        " String slicing in Python is a way to extract a portion of a string by specifying the start and end index.\n",
        " The format for string slicing is [start:end] , where the start is the index where slicing begins (inclusive) and end is the index where it ends (exclusive) .\n",
        "\n",
        " Syntax of Slicing\n",
        " 1. slice [start : end ] - Slicing starts with required index character of the string and ends with (end-1) character\n",
        " 2. slice [start:] - Slicing starts with required index character and ends with last character\n",
        " 3. slice [:end] - Slicing starts with first character and ends with (end-1) character\n",
        " 4. slice [:] - Returns the entire string\n",
        " 5. slice [start : end : step] - Returns string with required index character till required character with a step increment specified\n",
        "\n",
        " Note : start , end and step represents index of the string\n"
      ],
      "metadata": {
        "id": "BVA6rxUJ-kgT"
      }
    },
    {
      "cell_type": "code",
      "source": [
        "a = \"My name is Sachin\""
      ],
      "metadata": {
        "id": "Q2udj50yD0TW"
      },
      "execution_count": null,
      "outputs": []
    },
    {
      "cell_type": "code",
      "source": [
        "# slice [start : end ] - Slicing starts with reqired index character of the string and ends with (Index-1) character\n",
        "a = \"My name is Sachin\"\n",
        "b = a[0:12] # starts with index 0 >> 'M' and ends with 11th index >> 'S'\n",
        "print(b)"
      ],
      "metadata": {
        "colab": {
          "base_uri": "https://localhost:8080/"
        },
        "id": "PMR-3sBuD8PM",
        "outputId": "baedd4cc-247b-4363-b59e-524e496f5799"
      },
      "execution_count": null,
      "outputs": [
        {
          "output_type": "stream",
          "name": "stdout",
          "text": [
            "My name is S\n"
          ]
        }
      ]
    },
    {
      "cell_type": "code",
      "source": [
        "c = a[5:15]  # starts with 5th index >> 'm' and ends with 14th index >> 'h'\n",
        "print(c)"
      ],
      "metadata": {
        "colab": {
          "base_uri": "https://localhost:8080/"
        },
        "id": "ZLwKPmsnEDC8",
        "outputId": "30ce186a-7afe-4b98-e151-84039f79de2b"
      },
      "execution_count": null,
      "outputs": [
        {
          "output_type": "stream",
          "name": "stdout",
          "text": [
            "me is Sach\n"
          ]
        }
      ]
    },
    {
      "cell_type": "code",
      "source": [
        "# slice [start:] - Slicing starts with required index character and ends with last character\n",
        "x = \"Hello , how are you?\"\n",
        "y = x[8:] # starts with 8th index >>'h' and ends with last character '?'\n",
        "print(y)"
      ],
      "metadata": {
        "colab": {
          "base_uri": "https://localhost:8080/"
        },
        "id": "Vq6LLJCuIR1O",
        "outputId": "15e153de-11ec-4782-c2f8-b4be2c41037c"
      },
      "execution_count": null,
      "outputs": [
        {
          "output_type": "stream",
          "name": "stdout",
          "text": [
            "how are you?\n"
          ]
        }
      ]
    },
    {
      "cell_type": "code",
      "source": [
        "# slice [:end] - Slicing starts with first character and ends with (end-1) character\n",
        "s = \"I am doing good\"\n",
        "t = s[:8] # starts with first character or 0th Index 'I' and ends with 7th Index 'i'\n",
        "print(t)"
      ],
      "metadata": {
        "colab": {
          "base_uri": "https://localhost:8080/"
        },
        "id": "hnEtI8xjIx_q",
        "outputId": "7fc0cc63-7ab4-4d59-991a-194d68037b1d"
      },
      "execution_count": null,
      "outputs": [
        {
          "output_type": "stream",
          "name": "stdout",
          "text": [
            "I am doi\n"
          ]
        }
      ]
    },
    {
      "cell_type": "code",
      "source": [
        "# slice [:] - Returns the entire string\n",
        "s = \"I am doing good\"\n",
        "v = s[:] # returns the entire string\n",
        "print(v)"
      ],
      "metadata": {
        "colab": {
          "base_uri": "https://localhost:8080/"
        },
        "id": "j4FeleCPJgXH",
        "outputId": "ac6f4f73-39d3-47f1-f3f3-78f070e6007e"
      },
      "execution_count": null,
      "outputs": [
        {
          "output_type": "stream",
          "name": "stdout",
          "text": [
            "I am doing good\n"
          ]
        }
      ]
    },
    {
      "cell_type": "code",
      "source": [
        "# slice [start : end : step] - Returns string with required index character till required character with a step increment specified\n",
        "x = \"ABCDEFGHIJKLMNOP\"\n",
        "w = x[2:10:2]\n",
        "print(w) # returns every 2nd character from the position C (2nd Index) to J(9th Index)"
      ],
      "metadata": {
        "colab": {
          "base_uri": "https://localhost:8080/"
        },
        "id": "I-_CZa7ZKfZp",
        "outputId": "2e5fb90b-0602-43ab-e676-f20f72f2f81b"
      },
      "execution_count": null,
      "outputs": [
        {
          "output_type": "stream",
          "name": "stdout",
          "text": [
            "CEGI\n"
          ]
        }
      ]
    },
    {
      "cell_type": "code",
      "source": [
        "f= x[0:12:3] # returns every 3rd position from the position 0th index to 11th index\n",
        "print(f)"
      ],
      "metadata": {
        "colab": {
          "base_uri": "https://localhost:8080/"
        },
        "id": "0OfQJAEsLYXL",
        "outputId": "a93f92cb-dcf7-431a-ad5e-f0696525cd3e"
      },
      "execution_count": null,
      "outputs": [
        {
          "output_type": "stream",
          "name": "stdout",
          "text": [
            "ADGJ\n"
          ]
        }
      ]
    },
    {
      "cell_type": "markdown",
      "source": [
        "## Q2\n",
        "Explain the key features of lists in Python\n",
        "\n",
        "## Answer\n",
        "\n",
        "Lists are a fundamentl Data Structure in Python , offering flexibility and power for managing collections of items .\n",
        "A single lists may contain data types like strings , integers and objects.\n",
        "Lists can be altered even after ther creation.\n",
        "\n",
        "Key features are\n",
        "1. Ordered - Lists are collection of ordered elements, we can access the elements in the list by their index . The first element can be accessed by index 0  , the second element by 1 and so on .\n",
        "2. Mutable - Lists are mutable , which means we can modify [add, remove, update ] the list even after their creation\n",
        "3. Heterogenoeous - List can store various data type such as int , str , bool , and also even list\n",
        "4. Iterable - We can easily iterate over the elements in the list to perform operations on each item .\n",
        "5. Duplicate - List can store duplicate values\n",
        "6. Slicing - We can extract the portion of the list by specifying the range of indices using slicing notion."
      ],
      "metadata": {
        "id": "D7b0XQZQONmH"
      }
    },
    {
      "cell_type": "code",
      "source": [
        "# Ordered >> elements can be accessed by using their indices\n",
        "a = [\"Sachin\", 100 , \"Data Analysis\", \"July\", 2024]\n",
        "a"
      ],
      "metadata": {
        "id": "dV91_UkFN9dc",
        "colab": {
          "base_uri": "https://localhost:8080/"
        },
        "outputId": "312c6c6b-6c80-48de-aff4-de63457d0656"
      },
      "execution_count": null,
      "outputs": [
        {
          "output_type": "execute_result",
          "data": {
            "text/plain": [
              "['Sachin', 100, 'Data Analysis', 'July', 2024]"
            ]
          },
          "metadata": {},
          "execution_count": 2
        }
      ]
    },
    {
      "cell_type": "code",
      "source": [
        "a[0]"
      ],
      "metadata": {
        "colab": {
          "base_uri": "https://localhost:8080/",
          "height": 35
        },
        "id": "NByvq5Y45SI-",
        "outputId": "752aee6f-5960-4d82-c648-307862f06766"
      },
      "execution_count": null,
      "outputs": [
        {
          "output_type": "execute_result",
          "data": {
            "text/plain": [
              "'Sachin'"
            ],
            "application/vnd.google.colaboratory.intrinsic+json": {
              "type": "string"
            }
          },
          "metadata": {},
          "execution_count": 3
        }
      ]
    },
    {
      "cell_type": "code",
      "source": [
        "a[3]"
      ],
      "metadata": {
        "colab": {
          "base_uri": "https://localhost:8080/",
          "height": 35
        },
        "id": "GtpRFP8s5Vap",
        "outputId": "a74cb443-ff61-403b-c328-c1898bb2187f"
      },
      "execution_count": null,
      "outputs": [
        {
          "output_type": "execute_result",
          "data": {
            "text/plain": [
              "'July'"
            ],
            "application/vnd.google.colaboratory.intrinsic+json": {
              "type": "string"
            }
          },
          "metadata": {},
          "execution_count": 4
        }
      ]
    },
    {
      "cell_type": "code",
      "source": [
        "a[-1]"
      ],
      "metadata": {
        "colab": {
          "base_uri": "https://localhost:8080/"
        },
        "id": "kF9Fv2DZ5cqy",
        "outputId": "b3a66bf9-397f-4809-cbe5-9a1cb65fec19"
      },
      "execution_count": null,
      "outputs": [
        {
          "output_type": "execute_result",
          "data": {
            "text/plain": [
              "2024"
            ]
          },
          "metadata": {},
          "execution_count": 5
        }
      ]
    },
    {
      "cell_type": "code",
      "source": [
        "# Mutable >> Elelments in the list can be modified >> add , remove , update\n",
        "a = [\"Sachin\", 100 , \"Data Analysis\", \"July\", 2024]\n",
        "a.append(\"pwskills\") # adding the element\n",
        "a"
      ],
      "metadata": {
        "colab": {
          "base_uri": "https://localhost:8080/"
        },
        "id": "HK6Uz1jY5esT",
        "outputId": "8a3834b2-e35d-4763-dfd8-e9263285f2d3"
      },
      "execution_count": null,
      "outputs": [
        {
          "output_type": "execute_result",
          "data": {
            "text/plain": [
              "['Sachin', 100, 'Data Analysis', 'July', 2024, 'pwskills']"
            ]
          },
          "metadata": {},
          "execution_count": 7
        }
      ]
    },
    {
      "cell_type": "code",
      "source": [
        "a.remove(100) # removing the element"
      ],
      "metadata": {
        "id": "IMheQEub559r"
      },
      "execution_count": null,
      "outputs": []
    },
    {
      "cell_type": "code",
      "source": [
        "a"
      ],
      "metadata": {
        "colab": {
          "base_uri": "https://localhost:8080/"
        },
        "id": "GeXJ4jOm6GlI",
        "outputId": "fe81949f-ef08-4c48-d6ac-a2853304e032"
      },
      "execution_count": null,
      "outputs": [
        {
          "output_type": "execute_result",
          "data": {
            "text/plain": [
              "['Sachin', 'Data Analysis', 'July', 2024, 'pwskills']"
            ]
          },
          "metadata": {},
          "execution_count": 9
        }
      ]
    },
    {
      "cell_type": "code",
      "source": [
        "a[2] = \"August\" # updating the element using the index value >> Index 2-->(July ---> August)"
      ],
      "metadata": {
        "id": "xwuyrR2N6IfM"
      },
      "execution_count": null,
      "outputs": []
    },
    {
      "cell_type": "code",
      "source": [
        "a"
      ],
      "metadata": {
        "colab": {
          "base_uri": "https://localhost:8080/"
        },
        "id": "AeILbZz-6VDp",
        "outputId": "b24dabb4-bd14-4927-b208-56e183bddc6a"
      },
      "execution_count": null,
      "outputs": [
        {
          "output_type": "execute_result",
          "data": {
            "text/plain": [
              "['Sachin', 'Data Analysis', 'August', 2024, 'pwskills']"
            ]
          },
          "metadata": {},
          "execution_count": 12
        }
      ]
    },
    {
      "cell_type": "code",
      "source": [
        "# Heterogeneous >> can store different data types\n",
        "b = [\"Sachin\", 100 , \"Data Analysis\", \"July\", 20.24 ,4+6j]\n",
        "print(type(b[0])) #str\n",
        "print(type(b[1])) #int\n",
        "print(type(b[4])) #float\n",
        "print(type(b[-1])) #complex number"
      ],
      "metadata": {
        "colab": {
          "base_uri": "https://localhost:8080/"
        },
        "id": "JqvKnFsN6bJA",
        "outputId": "5f97f070-1a5f-41ea-91fd-57149ea776ca"
      },
      "execution_count": null,
      "outputs": [
        {
          "output_type": "stream",
          "name": "stdout",
          "text": [
            "<class 'str'>\n",
            "<class 'int'>\n",
            "<class 'float'>\n",
            "<class 'complex'>\n"
          ]
        }
      ]
    },
    {
      "cell_type": "code",
      "source": [
        "# Iterable >> can be looped for performing required operation\n",
        "b = [\"Sachin\", 100 , \"Data Analysis\", \"July\", 20.24 ,4+6j]\n",
        "for elem in b:\n",
        "  print(elem)"
      ],
      "metadata": {
        "colab": {
          "base_uri": "https://localhost:8080/"
        },
        "id": "-i2GWmnS6-47",
        "outputId": "1eb78eb6-c87a-4f47-fc5f-d45d889fe9f8"
      },
      "execution_count": null,
      "outputs": [
        {
          "output_type": "stream",
          "name": "stdout",
          "text": [
            "Sachin\n",
            "100\n",
            "Data Analysis\n",
            "July\n",
            "20.24\n",
            "(4+6j)\n"
          ]
        }
      ]
    },
    {
      "cell_type": "code",
      "source": [
        "# Duplicate >> List can store duplicate values\n",
        "\n",
        "b = [\"Sachin\", 100 , \"Data Analysis\", \"July\", \"Data Analysis\",\"July\", 100]\n",
        "b"
      ],
      "metadata": {
        "colab": {
          "base_uri": "https://localhost:8080/"
        },
        "id": "4-IB679b7sYM",
        "outputId": "715b0575-f5ef-4762-aef8-b3d165ada630"
      },
      "execution_count": null,
      "outputs": [
        {
          "output_type": "execute_result",
          "data": {
            "text/plain": [
              "['Sachin', 100, 'Data Analysis', 'July', 'Data Analysis', 'July', 100]"
            ]
          },
          "metadata": {},
          "execution_count": 20
        }
      ]
    },
    {
      "cell_type": "code",
      "source": [
        "# Slicing >> We can extract rhe portion of list by specifying the range of indices\n",
        "a = [\"Sachin\", 100 , \"Data Analysis\", \"July\", 2024]\n",
        "a[0:3]"
      ],
      "metadata": {
        "colab": {
          "base_uri": "https://localhost:8080/"
        },
        "id": "KF0-lqiI8UZB",
        "outputId": "faa3a981-f215-410f-d097-cceb9076dac9"
      },
      "execution_count": null,
      "outputs": [
        {
          "output_type": "execute_result",
          "data": {
            "text/plain": [
              "['Sachin', 100, 'Data Analysis']"
            ]
          },
          "metadata": {},
          "execution_count": 21
        }
      ]
    },
    {
      "cell_type": "code",
      "source": [
        "a[2:4]"
      ],
      "metadata": {
        "colab": {
          "base_uri": "https://localhost:8080/"
        },
        "id": "dGxGX4nn9V87",
        "outputId": "e942f7ce-653d-476f-d149-94d979b23187"
      },
      "execution_count": null,
      "outputs": [
        {
          "output_type": "execute_result",
          "data": {
            "text/plain": [
              "['Data Analysis', 'July']"
            ]
          },
          "metadata": {},
          "execution_count": 24
        }
      ]
    },
    {
      "cell_type": "code",
      "source": [],
      "metadata": {
        "id": "zxqxfAU39a2D"
      },
      "execution_count": null,
      "outputs": []
    },
    {
      "cell_type": "markdown",
      "source": [
        "## Q3\n",
        "\n",
        "Describe how to access, modify, and delete elements in a list with examples\n",
        "\n",
        "## Answer\n",
        "\n",
        "We can use the below syntax to perfrom the operations\n",
        "1. access - Elements in the list can be accessed using indexing in the\n",
        "list\n",
        "2. modify - list.append() will add the element in the list.\n",
        "list[index] will update the particular element in the list\n",
        "3. list.remove() will delete the element from the list.\n"
      ],
      "metadata": {
        "id": "m0IHiGWB_FLT"
      }
    },
    {
      "cell_type": "code",
      "source": [
        "# Accessing the element in the list\n",
        "phone_brand = [\"oppo\",\"vivo\", \"samsung\", \"iphone\"]\n",
        "phone_brand[0] # returns the 0th index element in the list"
      ],
      "metadata": {
        "colab": {
          "base_uri": "https://localhost:8080/",
          "height": 35
        },
        "id": "z8tv_TeUABK2",
        "outputId": "575aef24-3f0d-4636-87e5-52191a427eb7"
      },
      "execution_count": null,
      "outputs": [
        {
          "output_type": "execute_result",
          "data": {
            "text/plain": [
              "'oppo'"
            ],
            "application/vnd.google.colaboratory.intrinsic+json": {
              "type": "string"
            }
          },
          "metadata": {},
          "execution_count": 25
        }
      ]
    },
    {
      "cell_type": "code",
      "source": [
        "phone_brand[3] # returns the 3rd index element in the list"
      ],
      "metadata": {
        "colab": {
          "base_uri": "https://localhost:8080/",
          "height": 35
        },
        "id": "vzcnyl3yATIG",
        "outputId": "0834e912-a2fd-4aa7-92e5-63f3ea015781"
      },
      "execution_count": null,
      "outputs": [
        {
          "output_type": "execute_result",
          "data": {
            "text/plain": [
              "'iphone'"
            ],
            "application/vnd.google.colaboratory.intrinsic+json": {
              "type": "string"
            }
          },
          "metadata": {},
          "execution_count": 26
        }
      ]
    },
    {
      "cell_type": "code",
      "source": [
        "# modify\n",
        "phone_brand = [\"oppo\",\"vivo\", \"samsung\", \"iphone\"]\n",
        "phone_brand.append(\"Nokia\") # add the element in the list\n",
        "phone_brand"
      ],
      "metadata": {
        "colab": {
          "base_uri": "https://localhost:8080/"
        },
        "id": "7c2_DFPEAWKR",
        "outputId": "0a1bef94-8222-47f2-8256-6d40b8c28ec6"
      },
      "execution_count": null,
      "outputs": [
        {
          "output_type": "execute_result",
          "data": {
            "text/plain": [
              "['oppo', 'vivo', 'samsung', 'iphone', 'Nokia']"
            ]
          },
          "metadata": {},
          "execution_count": 29
        }
      ]
    },
    {
      "cell_type": "code",
      "source": [
        "phone_brand[0] = \"Realme\" # update the element in the list\n",
        "phone_brand"
      ],
      "metadata": {
        "colab": {
          "base_uri": "https://localhost:8080/"
        },
        "id": "HZFUbv8GAsUo",
        "outputId": "02319f01-701a-484b-fcc4-5dc3984661dc"
      },
      "execution_count": null,
      "outputs": [
        {
          "output_type": "execute_result",
          "data": {
            "text/plain": [
              "['Realme', 'vivo', 'samsung', 'iphone', 'Nokia']"
            ]
          },
          "metadata": {},
          "execution_count": 31
        }
      ]
    },
    {
      "cell_type": "code",
      "source": [
        "# delete\n",
        "phone_brand = ['Realme', 'vivo', 'samsung', 'iphone', 'Nokia']\n",
        "phone_brand.remove(\"vivo\") # delete the element in the list\n",
        "phone_brand"
      ],
      "metadata": {
        "colab": {
          "base_uri": "https://localhost:8080/"
        },
        "id": "ZStVEpNABg0o",
        "outputId": "dc2103fb-c6fe-4ad8-d2d1-782490f281d5"
      },
      "execution_count": null,
      "outputs": [
        {
          "output_type": "execute_result",
          "data": {
            "text/plain": [
              "['Realme', 'samsung', 'iphone', 'Nokia']"
            ]
          },
          "metadata": {},
          "execution_count": 33
        }
      ]
    },
    {
      "cell_type": "code",
      "source": [],
      "metadata": {
        "id": "O6_CtZ-IB40r"
      },
      "execution_count": null,
      "outputs": []
    },
    {
      "cell_type": "markdown",
      "source": [
        "## Q4\n",
        "\n",
        "Compare and contrast tuples and lists with examples\n",
        "\n",
        "## Answer\n",
        "\n",
        "The below are the major differeneces between lists and Tuples\n",
        "1. Lists\n",
        " - Lists are mutable >> can be modified\n",
        " - Defined using square brackts []\n",
        " - Cannot be used as dictionary  key as lists are mutable\n",
        " - Suitable for collections of items that may change over time\n",
        " - Generally Slower to iterate due to dynamic size and mutability\n",
        "\n",
        "2. Tuples\n",
        "  - Tuples are immutable >> can not be modified\n",
        "  - Defined using parenthesis ()\n",
        "  - Can be used as dictionary key as tuples are immutable\n",
        "  - Ideal for fixed collections of items such as coordinates or constants\n",
        "  - Generally faster to iterate due to fixed size.\n",
        "\n",
        "Also , below are few common features of Lists and Tuples\n",
        "  1. They are Heterogeneous - Can store different data types such as int , str , float , bool etc\n",
        "  2. Element Access -  Elements in the lists and tuples can be accessed through indexing.\n",
        "  3. Sequential Data Storage - Elelments in lists and tuples are stored in a specific order so that it can be accessed.\n"
      ],
      "metadata": {
        "id": "mGvzBmFOC8RG"
      }
    },
    {
      "cell_type": "code",
      "source": [
        "# Lists\n",
        "# Heterogeneous\n",
        "a = [\"Sachin\" ,\"Bangalore\" , 1366 , 560050 , 3.41 ] # Heterogeneous >> Different data types"
      ],
      "metadata": {
        "id": "jCBP8HyKEM8X"
      },
      "execution_count": null,
      "outputs": []
    },
    {
      "cell_type": "code",
      "source": [
        "a"
      ],
      "metadata": {
        "id": "u4bpAojvEM1n",
        "colab": {
          "base_uri": "https://localhost:8080/"
        },
        "outputId": "6a87149c-bb55-4898-da83-baaf6a0d034c"
      },
      "execution_count": null,
      "outputs": [
        {
          "output_type": "execute_result",
          "data": {
            "text/plain": [
              "['Sachin', 'Bangalore', 1366, 560050, 3.41]"
            ]
          },
          "metadata": {},
          "execution_count": 14
        }
      ]
    },
    {
      "cell_type": "code",
      "source": [
        "# Mutable\n",
        "a = [\"Sachin\" ,\"Bangalore\" , 1366 , 560050 , 3.41 ]\n",
        "a.append(\"iPad\") #mutable >> elements in list can be added\n",
        "print(a)"
      ],
      "metadata": {
        "colab": {
          "base_uri": "https://localhost:8080/"
        },
        "id": "PqfhaROkI0My",
        "outputId": "4969f05e-4404-4601-a50d-2f8baaa74848"
      },
      "execution_count": null,
      "outputs": [
        {
          "output_type": "stream",
          "name": "stdout",
          "text": [
            "['Sachin', 'Bangalore', 1366, 560050, 3.41, 'iPad']\n"
          ]
        }
      ]
    },
    {
      "cell_type": "code",
      "source": [
        "# Mutable\n",
        "a = ['Sachin', 'Bangalore', 1366, 560050, 3.41, 'iPad']\n",
        "a.remove(3.41) #mutable >> elements can be removed from the list\n",
        "print(a)"
      ],
      "metadata": {
        "colab": {
          "base_uri": "https://localhost:8080/"
        },
        "id": "xHJoB-lvI0Ko",
        "outputId": "925da160-1bdc-4a7b-b4bb-a4a7a612b88f"
      },
      "execution_count": null,
      "outputs": [
        {
          "output_type": "stream",
          "name": "stdout",
          "text": [
            "['Sachin', 'Bangalore', 1366, 560050, 'iPad']\n"
          ]
        }
      ]
    },
    {
      "cell_type": "code",
      "source": [
        " # Accessing element through Indexing\n",
        "print(a[-1])\n",
        "print(a[0])\n",
        "print(a[2])"
      ],
      "metadata": {
        "colab": {
          "base_uri": "https://localhost:8080/"
        },
        "id": "nkPbGxXeI0H-",
        "outputId": "e19d32e3-9a2b-451c-b9b3-3de76024e55a"
      },
      "execution_count": null,
      "outputs": [
        {
          "output_type": "stream",
          "name": "stdout",
          "text": [
            "iPad\n",
            "Sachin\n",
            "1366\n"
          ]
        }
      ]
    },
    {
      "cell_type": "code",
      "source": [
        "# tuple\n",
        "# Heterogeneous\n",
        "\n",
        "t = (\"Sachin\" ,\"Bangalore\" , 1366 , 560050 , 1994) # different data types can be stored\n",
        "print(type(t))\n",
        "print(t)"
      ],
      "metadata": {
        "colab": {
          "base_uri": "https://localhost:8080/"
        },
        "id": "wtg4L0_fI0Fa",
        "outputId": "f4520a19-fafb-4501-b657-ef2eccdab3e4"
      },
      "execution_count": null,
      "outputs": [
        {
          "output_type": "stream",
          "name": "stdout",
          "text": [
            "<class 'tuple'>\n",
            "('Sachin', 'Bangalore', 1366, 560050, 1994)\n"
          ]
        }
      ]
    },
    {
      "cell_type": "code",
      "source": [
        "# Accessing elements in tuple through indexing\n",
        "t = (\"Sachin\" ,\"Bangalore\" , 1366 , 560050 , 1994)\n",
        "\n",
        "print(t [-1])\n",
        "print(t[1])\n",
        "print(t[-3])"
      ],
      "metadata": {
        "colab": {
          "base_uri": "https://localhost:8080/"
        },
        "id": "loKOEI_OI0C2",
        "outputId": "1a553ff2-c801-4a84-97cb-f36e74b24a47"
      },
      "execution_count": null,
      "outputs": [
        {
          "output_type": "stream",
          "name": "stdout",
          "text": [
            "1994\n",
            "Bangalore\n",
            "1366\n"
          ]
        }
      ]
    },
    {
      "cell_type": "code",
      "source": [
        "# tuples are immutable\n",
        "t[-1] = \"India\"  # error >> 'tuple' object does not support item assignment\n"
      ],
      "metadata": {
        "colab": {
          "base_uri": "https://localhost:8080/",
          "height": 141
        },
        "id": "2VcrSoCKI0AY",
        "outputId": "fdad081f-b750-4398-ce1e-c15e014593cf"
      },
      "execution_count": null,
      "outputs": [
        {
          "output_type": "error",
          "ename": "TypeError",
          "evalue": "'tuple' object does not support item assignment",
          "traceback": [
            "\u001b[0;31m---------------------------------------------------------------------------\u001b[0m",
            "\u001b[0;31mTypeError\u001b[0m                                 Traceback (most recent call last)",
            "\u001b[0;32m<ipython-input-37-d5b8b524954e>\u001b[0m in \u001b[0;36m<cell line: 1>\u001b[0;34m()\u001b[0m\n\u001b[0;32m----> 1\u001b[0;31m \u001b[0mt\u001b[0m\u001b[0;34m[\u001b[0m\u001b[0;34m-\u001b[0m\u001b[0;36m1\u001b[0m\u001b[0;34m]\u001b[0m \u001b[0;34m=\u001b[0m \u001b[0;34m\"India\"\u001b[0m\u001b[0;34m\u001b[0m\u001b[0;34m\u001b[0m\u001b[0m\n\u001b[0m",
            "\u001b[0;31mTypeError\u001b[0m: 'tuple' object does not support item assignment"
          ]
        }
      ]
    },
    {
      "cell_type": "markdown",
      "source": [
        "## Q5\n",
        "\n",
        "Describe the key features of sets and provide examples of their use\n",
        "\n",
        "## Answer\n",
        "A set in Pythonm is a colection of unique and unordered data type which are iterable , mutable and has no duplicate elements.\n",
        "\n",
        "Key features -\n",
        "1. Unordered - The elements in sets have no defined order, which means the set elements cannot be accessed using slicing or indexing.\n",
        "2. Unique - Sets do not allow duplicate values. It will be ignored if we try to add duplicate elements.\n",
        "3. Mutable - We can add/remove elements in the sets\n",
        "4. Immutable Elements - Even though sets are mutable , the elements in the sets should be immutable type (eg: string , int , float)\n",
        "5. Mathematical Set operators - We can perform Union , Intersection and Difference operation in sets.\n"
      ],
      "metadata": {
        "id": "Z3rzOfmxEINs"
      }
    },
    {
      "cell_type": "code",
      "source": [
        "# Use cases\n",
        "# Set Operations\n",
        "# Union of Sets - This will returns a set with all elements in both the set\n",
        "a = {1,2,3,4}\n",
        "b = {2,3,5,6}\n",
        "c = a.union(b)\n",
        "print(c)"
      ],
      "metadata": {
        "colab": {
          "base_uri": "https://localhost:8080/"
        },
        "id": "LqZOJ4qmOVpy",
        "outputId": "29cae38e-dc36-4990-a6fe-dc9433076c5f"
      },
      "execution_count": null,
      "outputs": [
        {
          "output_type": "stream",
          "name": "stdout",
          "text": [
            "{1, 2, 3, 4, 5, 6}\n"
          ]
        }
      ]
    },
    {
      "cell_type": "code",
      "source": [
        "# Intersection - This will return a set having common element in both the sets\n",
        "x = {\"Sachin\",\"Rahul\",\"Rohit\", \"Dube\"}\n",
        "y = {\"Virat\", \"Rahul\",\"Sachin\", \"Bumrah\"}\n",
        "z = x.intersection(y)\n",
        "print(z)"
      ],
      "metadata": {
        "colab": {
          "base_uri": "https://localhost:8080/"
        },
        "id": "W9BJY9NPOdFh",
        "outputId": "68624edc-a985-4119-ca05-12b5cca03bb7"
      },
      "execution_count": null,
      "outputs": [
        {
          "output_type": "stream",
          "name": "stdout",
          "text": [
            "{'Rahul', 'Sachin'}\n"
          ]
        }
      ]
    },
    {
      "cell_type": "code",
      "source": [
        "# Difference  - This will return a element which are in set c and not in set d\n",
        "c= {1,2,3,4}\n",
        "d = {2,3,5}\n",
        "e = c.difference(d)\n",
        "print(e)"
      ],
      "metadata": {
        "colab": {
          "base_uri": "https://localhost:8080/"
        },
        "id": "GgrR8aDU9NbT",
        "outputId": "c23392ce-5069-4501-8154-df80f1e73c49"
      },
      "execution_count": null,
      "outputs": [
        {
          "output_type": "stream",
          "name": "stdout",
          "text": [
            "{1, 4}\n"
          ]
        }
      ]
    },
    {
      "cell_type": "code",
      "source": [
        "# Checking if element is present in the list\n",
        "list1 = [1,2,3,4,5]\n",
        "set1 = set(list1) # type casting list to a set\n",
        "if 2 in set1: #checking if the element is in the set\n",
        "  print(\"2 is pesent in set1\")"
      ],
      "metadata": {
        "colab": {
          "base_uri": "https://localhost:8080/"
        },
        "id": "TeXT1cLF9_BJ",
        "outputId": "3d34ee60-8fc5-49e4-fcae-f500e0f1516a"
      },
      "execution_count": null,
      "outputs": [
        {
          "output_type": "stream",
          "name": "stdout",
          "text": [
            "2 is pesent in set1\n"
          ]
        }
      ]
    },
    {
      "cell_type": "code",
      "source": [
        "# Making a list of unique elements\n",
        "\n",
        "list_a = [1,5,2,3,3,4,5,1]\n",
        "set_a = set(list_a) # converting list to set >> so that it retains only unique element\n",
        "list_a = list(set_a) #conerting set to list to have unique elements in the list derived form set\n",
        "\n",
        "print(list_a)"
      ],
      "metadata": {
        "colab": {
          "base_uri": "https://localhost:8080/"
        },
        "id": "zNmcRMCM-0UA",
        "outputId": "fc19cc37-f7ca-409f-bf6c-478e04544ec5"
      },
      "execution_count": null,
      "outputs": [
        {
          "output_type": "stream",
          "name": "stdout",
          "text": [
            "[1, 2, 3, 4, 5]\n"
          ]
        }
      ]
    },
    {
      "cell_type": "markdown",
      "source": [
        "## Q6\n",
        "\n",
        "Discuss the use cases of tuples and sets in Python programming\n",
        "\n",
        "## Answer\n",
        "\n",
        "Tuples\n",
        "1. Immutable Sequences - The elements in the tuple can not be modified once created.\n",
        "2. Perfomrance - Tuples are usually faster than list, since they are immutable\n",
        "3. Dictionary keys - Tuples can be used as keys in dictionary since they are hashable or immutable\n",
        "\n",
        "Sets\n",
        "1. Unordered collection of Unique Items - we can use sets when the information stored appears only once and the order doesn't matter\n",
        "2. Mathematical Set operations - It can perform mathematical operations like  Union , Intersection and Difeerence of sets which can be useful in various computational problems.\n",
        "3. Removing duplicates from other collections - Sets are useful in removing duplicates from collections like lists\n",
        "4. iterating over unique items - if you need to iterate over a collection of unique items and order is not important, sets provide a convenient way to ensure uniqueness without having to manually manage it."
      ],
      "metadata": {
        "id": "6bJ_PYWdBQrl"
      }
    },
    {
      "cell_type": "markdown",
      "source": [
        "## Q7\n",
        "\n",
        "Describe how to add, modify, and delete items in a dictionary with examples\n",
        "\n",
        "## Answer\n",
        "\n",
        "In Python, dictionaries are versatile data structures that store key-value pairs. They are mutable, meaning you can modify them after they are created\n",
        "\n"
      ],
      "metadata": {
        "id": "EKdwre_EBXmy"
      }
    },
    {
      "cell_type": "code",
      "source": [
        "# Add items to the Dictionary\n",
        "my_dict = {'name': 'Sachin', 'age': 30}\n",
        "my_dict[\"city\"] = \"Bangalore\" #adding item >> defining key value pair\n",
        "print(my_dict)"
      ],
      "metadata": {
        "colab": {
          "base_uri": "https://localhost:8080/"
        },
        "id": "jKi6Li6bHI_a",
        "outputId": "90060341-623d-4ff2-c6e2-0459ab24d8e7"
      },
      "execution_count": null,
      "outputs": [
        {
          "output_type": "stream",
          "name": "stdout",
          "text": [
            "{'name': 'Sachin', 'age': 30, 'city': 'Bangalore'}\n"
          ]
        }
      ]
    },
    {
      "cell_type": "code",
      "source": [
        "# modifying item\n",
        "my_dict = {'name': 'Sachin', 'age': 30, 'city': 'Bangalore'}\n",
        "my_dict[\"name\"] = \"Rohit\" # >> modifying dict element by key value pair\n",
        "print(my_dict)\n"
      ],
      "metadata": {
        "colab": {
          "base_uri": "https://localhost:8080/"
        },
        "id": "qKaMty0zHfAU",
        "outputId": "e1bc7339-f11f-461d-974d-8746312df95f"
      },
      "execution_count": null,
      "outputs": [
        {
          "output_type": "stream",
          "name": "stdout",
          "text": [
            "{'name': 'Rohit', 'age': 30, 'city': 'Bangalore'}\n"
          ]
        }
      ]
    },
    {
      "cell_type": "code",
      "source": [
        "# deleting item in dict\n",
        "my_dict = {'name': 'Rohit', 'age': 30, 'city': 'Bangalore'}\n",
        "del my_dict [\"city\"] # deleting item by mentioning key in dict\n",
        "print(my_dict)"
      ],
      "metadata": {
        "colab": {
          "base_uri": "https://localhost:8080/"
        },
        "id": "HEnVznvOHe2m",
        "outputId": "83818314-7513-4650-eab5-782af5fa446c"
      },
      "execution_count": null,
      "outputs": [
        {
          "output_type": "stream",
          "name": "stdout",
          "text": [
            "{'name': 'Rohit', 'age': 30}\n"
          ]
        }
      ]
    },
    {
      "cell_type": "code",
      "source": [
        "# deleting by pop method\n",
        "removed_value = my_dict.pop('age')\n",
        "\n",
        "print(my_dict) # Output: {'name': 'John'}\n",
        "print(\"Removed value:\", removed_value)\n"
      ],
      "metadata": {
        "colab": {
          "base_uri": "https://localhost:8080/"
        },
        "id": "y8vd9-lnJNkg",
        "outputId": "fa2ca3dc-f55f-4f98-a41f-7210821758b4"
      },
      "execution_count": null,
      "outputs": [
        {
          "output_type": "stream",
          "name": "stdout",
          "text": [
            "{'name': 'Rohit'}\n",
            "Removed value: 30\n"
          ]
        }
      ]
    },
    {
      "cell_type": "markdown",
      "source": [
        "## Q8\n",
        "\n",
        "Discuss the importance of dictionary keys being immutable and provide examples.\n",
        "\n",
        "## Answer\n",
        "\n",
        "Importanc of Immutable dictionary keys\n",
        "1. Key Integrity - Immutable keys ensures the integrity of dict is maintained. If keys were mutable, changing a key's value could potentially change its hash value, leading to inconsistency or even data loss within the dictionary.\n",
        "2. Compatibility with Data Structures: Immutable keys ensure that the containing data structures remain consistent and correctly utilize hash-based indexing.\n",
        "3. Guarantee of Uniqueness: Immutable keys guarantee that each key in a dictionary is unique. Since mutable objects can change their state, two mutable objects with the same value might not be considered equal for hashing purposes if their state changes."
      ],
      "metadata": {
        "id": "ZWtUJ-2ABhzd"
      }
    },
    {
      "cell_type": "code",
      "source": [
        "# Strings as Keys:\n",
        "student_grades = {'Alice': 85, 'Bob': 92, 'Charlie': 78}\n",
        "print(student_grades)\n",
        "print(type(student_grades))"
      ],
      "metadata": {
        "colab": {
          "base_uri": "https://localhost:8080/"
        },
        "id": "rUgHpbATMWjM",
        "outputId": "7f0fef23-51e1-480c-cd72-29b1a163a779"
      },
      "execution_count": null,
      "outputs": [
        {
          "output_type": "stream",
          "name": "stdout",
          "text": [
            "{'Alice': 85, 'Bob': 92, 'Charlie': 78}\n",
            "<class 'dict'>\n"
          ]
        }
      ]
    },
    {
      "cell_type": "code",
      "source": [
        "#Integers as Keys:\n",
        "month_days = {1: 31, 2: 28, 3: 31, 4: 30}\n",
        "print(month_days)\n",
        "print(type(month_days))\n"
      ],
      "metadata": {
        "colab": {
          "base_uri": "https://localhost:8080/"
        },
        "id": "V-rf2qTAMmcV",
        "outputId": "1a98451d-69fd-420b-d926-f1efdc5848c1"
      },
      "execution_count": null,
      "outputs": [
        {
          "output_type": "stream",
          "name": "stdout",
          "text": [
            "{1: 31, 2: 28, 3: 31, 4: 30}\n",
            "<class 'dict'>\n"
          ]
        }
      ]
    },
    {
      "cell_type": "code",
      "source": [
        "# Tuples (with Immutable Elements) as Keys:\n",
        "coordinates = {(0, 0): 'Origin', (1, 1): 'One One', (2, 3): 'Two Three'}\n",
        "print(coordinates)\n",
        "print(type(coordinates))"
      ],
      "metadata": {
        "colab": {
          "base_uri": "https://localhost:8080/"
        },
        "id": "5cGYV9peMyhu",
        "outputId": "4b19fad6-6899-43fd-a13f-d347bd46e444"
      },
      "execution_count": null,
      "outputs": [
        {
          "output_type": "stream",
          "name": "stdout",
          "text": [
            "{(0, 0): 'Origin', (1, 1): 'One One', (2, 3): 'Two Three'}\n",
            "<class 'dict'>\n"
          ]
        }
      ]
    },
    {
      "cell_type": "code",
      "source": [
        "# FrozenSets as Keys (since frozensets are immutable):\n",
        "interests = {frozenset(['Python', 'Machine Learning']): 'Data Science',\n",
        "             frozenset(['Java', 'Android']): 'App Development'}\n",
        "print(interests)\n",
        "print(type(interests))"
      ],
      "metadata": {
        "colab": {
          "base_uri": "https://localhost:8080/"
        },
        "id": "dpMm38e9NAYN",
        "outputId": "c4ffc157-5fe6-41cf-a252-3f6a72647fbb"
      },
      "execution_count": null,
      "outputs": [
        {
          "output_type": "stream",
          "name": "stdout",
          "text": [
            "{frozenset({'Python', 'Machine Learning'}): 'Data Science', frozenset({'Android', 'Java'}): 'App Development'}\n",
            "<class 'dict'>\n"
          ]
        }
      ]
    },
    {
      "cell_type": "code",
      "source": [],
      "metadata": {
        "id": "jeJy8CHeludD"
      },
      "execution_count": null,
      "outputs": []
    }
  ]
}