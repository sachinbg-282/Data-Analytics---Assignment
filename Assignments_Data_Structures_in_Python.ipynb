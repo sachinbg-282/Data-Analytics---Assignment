{
  "nbformat": 4,
  "nbformat_minor": 0,
  "metadata": {
    "colab": {
      "provenance": [],
      "toc_visible": true,
      "authorship_tag": "ABX9TyM0JEMt+Ou21nHcvMXFvV4I",
      "include_colab_link": true
    },
    "kernelspec": {
      "name": "python3",
      "display_name": "Python 3"
    },
    "language_info": {
      "name": "python"
    }
  },
  "cells": [
    {
      "cell_type": "markdown",
      "metadata": {
        "id": "view-in-github",
        "colab_type": "text"
      },
      "source": [
        "<a href=\"https://colab.research.google.com/github/sachinbg-282/Data-Analytics---Assignment/blob/main/Assignments_Data_Structures_in_Python.ipynb\" target=\"_parent\"><img src=\"https://colab.research.google.com/assets/colab-badge.svg\" alt=\"Open In Colab\"/></a>"
      ]
    },
    {
      "cell_type": "markdown",
      "source": [
        "Assignment - Data Structure in Python"
      ],
      "metadata": {
        "id": "R6nZP4baup1e"
      }
    },
    {
      "cell_type": "markdown",
      "source": [
        "## Q1\n",
        "\n",
        "## Write a code to reverse a string\n",
        "\n"
      ],
      "metadata": {
        "id": "MfewvbeDuaa7"
      }
    },
    {
      "cell_type": "code",
      "source": [
        "def reverse(s):\n",
        "  return s [::-1]\n",
        "\n",
        "string = \"This is Data Analytics Course\"\n",
        "reverse(string)"
      ],
      "metadata": {
        "colab": {
          "base_uri": "https://localhost:8080/",
          "height": 35
        },
        "id": "l2iYzherunun",
        "outputId": "58737096-b709-425e-9fa0-4508e662664d"
      },
      "execution_count": null,
      "outputs": [
        {
          "output_type": "execute_result",
          "data": {
            "text/plain": [
              "'esruoC scitylanA ataD si sihT'"
            ],
            "application/vnd.google.colaboratory.intrinsic+json": {
              "type": "string"
            }
          },
          "metadata": {},
          "execution_count": 2
        }
      ]
    },
    {
      "cell_type": "code",
      "source": [
        "string = \"Helllo Pw Skills\"\n",
        "reverse(string)"
      ],
      "metadata": {
        "colab": {
          "base_uri": "https://localhost:8080/",
          "height": 35
        },
        "id": "FHWqbqH5wDHD",
        "outputId": "d1c8ec99-a181-4cbf-9f9b-a265f5b6f91c"
      },
      "execution_count": null,
      "outputs": [
        {
          "output_type": "execute_result",
          "data": {
            "text/plain": [
              "'sllikS wP ollleH'"
            ],
            "application/vnd.google.colaboratory.intrinsic+json": {
              "type": "string"
            }
          },
          "metadata": {},
          "execution_count": 3
        }
      ]
    },
    {
      "cell_type": "markdown",
      "source": [
        "## Q2\n",
        "\n",
        "## Write a code to count the number of vowels in a string"
      ],
      "metadata": {
        "id": "kgkkge5iwLI9"
      }
    },
    {
      "cell_type": "code",
      "source": [
        "def vowel_count(s):\n",
        "  count = 0\n",
        "  vowels = \"AEIOUaeiou\"\n",
        "  for letter in s:\n",
        "    if letter in vowels:\n",
        "      count = count +1\n",
        "  return count\n",
        "\n"
      ],
      "metadata": {
        "id": "NWUh5Kt0wXSn"
      },
      "execution_count": null,
      "outputs": []
    },
    {
      "cell_type": "code",
      "source": [
        "string = \"Sachin\"\n",
        "vowel_count(string)"
      ],
      "metadata": {
        "colab": {
          "base_uri": "https://localhost:8080/"
        },
        "id": "HcT6x1aJxWjd",
        "outputId": "e8d354f8-c696-44fc-e0c9-482d353f513f"
      },
      "execution_count": null,
      "outputs": [
        {
          "output_type": "execute_result",
          "data": {
            "text/plain": [
              "2"
            ]
          },
          "metadata": {},
          "execution_count": 22
        }
      ]
    },
    {
      "cell_type": "code",
      "source": [
        "string = \"This is a Beautiful world\"\n",
        "vowel_count(string)"
      ],
      "metadata": {
        "colab": {
          "base_uri": "https://localhost:8080/"
        },
        "id": "6YTgj1_wxbOM",
        "outputId": "aec3ba0d-a5c1-4ca9-d8c5-53d851a15133"
      },
      "execution_count": null,
      "outputs": [
        {
          "output_type": "execute_result",
          "data": {
            "text/plain": [
              "9"
            ]
          },
          "metadata": {},
          "execution_count": 23
        }
      ]
    },
    {
      "cell_type": "markdown",
      "source": [
        "## Q3\n",
        "\n",
        "## Write a code to check if a given string is a palindrome or not"
      ],
      "metadata": {
        "id": "fh-kMqJ-0Nwa"
      }
    },
    {
      "cell_type": "code",
      "source": [
        "def palindrome(s):\n",
        "  s=s.lower()\n",
        "  if s[::1] == s[::-1]:\n",
        "    print(\"The given string is a palindrome\")\n",
        "  else:\n",
        "    print(\"Not a palindrome\")"
      ],
      "metadata": {
        "id": "9dgOnzGv0ISa"
      },
      "execution_count": null,
      "outputs": []
    },
    {
      "cell_type": "code",
      "source": [
        "string = \"Civic\"\n",
        "palindrome(string)"
      ],
      "metadata": {
        "colab": {
          "base_uri": "https://localhost:8080/"
        },
        "id": "PhLDZDVP0pxS",
        "outputId": "d8e119a0-5013-477c-afe0-05ddcf3f5261"
      },
      "execution_count": null,
      "outputs": [
        {
          "output_type": "stream",
          "name": "stdout",
          "text": [
            "The given string is a palindrome\n"
          ]
        }
      ]
    },
    {
      "cell_type": "code",
      "source": [
        "string = \"Madam\"\n",
        "palindrome(string)"
      ],
      "metadata": {
        "colab": {
          "base_uri": "https://localhost:8080/"
        },
        "id": "jh0nV26A02yS",
        "outputId": "2a22cce7-b9d8-422a-a2d1-f2783dfaf474"
      },
      "execution_count": null,
      "outputs": [
        {
          "output_type": "stream",
          "name": "stdout",
          "text": [
            "The given string is a palindrome\n"
          ]
        }
      ]
    },
    {
      "cell_type": "code",
      "source": [
        "string = \"data analytics\"\n",
        "palindrome(string)"
      ],
      "metadata": {
        "colab": {
          "base_uri": "https://localhost:8080/"
        },
        "id": "i8K1CEOn1LLC",
        "outputId": "3e7c191e-6947-48c0-bd52-144447dfb7a5"
      },
      "execution_count": null,
      "outputs": [
        {
          "output_type": "stream",
          "name": "stdout",
          "text": [
            "Not a palindrome\n"
          ]
        }
      ]
    },
    {
      "cell_type": "markdown",
      "source": [
        "## Q4\n",
        "\n",
        "## Write a code to check if two given strings are anagrams of each other"
      ],
      "metadata": {
        "id": "9fywPQsS58lI"
      }
    },
    {
      "cell_type": "code",
      "source": [
        "def anagram(s1 ,s2):\n",
        "  s1 = s1.replace(\" \", \"\").lower()\n",
        "  s2 = s2.replace(\" \", \"\").lower()\n",
        "  if sorted(s1) == sorted(s2):\n",
        "    print(f\"{s1} and {s2} are anagrams\")\n",
        "  else:\n",
        "    print(f\"{s1} and {s2} are not anagrams\")\n"
      ],
      "metadata": {
        "id": "1XmZQvF01qAl"
      },
      "execution_count": null,
      "outputs": []
    },
    {
      "cell_type": "code",
      "source": [
        "s1 = \"Listen\"\n",
        "s2 = \"Silent\"\n",
        "anagram(s1,s2)"
      ],
      "metadata": {
        "colab": {
          "base_uri": "https://localhost:8080/"
        },
        "id": "kqaEBELq6onl",
        "outputId": "eefeab97-939f-4c16-c6f0-d3011cd1bcd4"
      },
      "execution_count": null,
      "outputs": [
        {
          "output_type": "stream",
          "name": "stdout",
          "text": [
            "listen and silent are anagrams\n"
          ]
        }
      ]
    },
    {
      "cell_type": "code",
      "source": [
        "s1 = \"Note\"\n",
        "s2 = \"tone\"\n",
        "anagram(s1,s2)"
      ],
      "metadata": {
        "colab": {
          "base_uri": "https://localhost:8080/"
        },
        "id": "-sTvhT636vpa",
        "outputId": "da010ccc-c08e-4dba-a152-3228cc1bfe61"
      },
      "execution_count": null,
      "outputs": [
        {
          "output_type": "stream",
          "name": "stdout",
          "text": [
            "note and tone are anagrams\n"
          ]
        }
      ]
    },
    {
      "cell_type": "code",
      "source": [
        "s1 = \"Astronomer\"\n",
        "s2 = \"Moon starer\"\n",
        "anagram(s1,s2)"
      ],
      "metadata": {
        "colab": {
          "base_uri": "https://localhost:8080/"
        },
        "id": "YlDGKVMr7ITi",
        "outputId": "cc31596f-8e9e-47cb-8ff0-ded4b37ee859"
      },
      "execution_count": null,
      "outputs": [
        {
          "output_type": "stream",
          "name": "stdout",
          "text": [
            "astronomer and moonstarer are anagrams\n"
          ]
        }
      ]
    },
    {
      "cell_type": "markdown",
      "source": [
        "## Q5\n",
        "\n",
        "## Write a code to find all occurrences of a given substring within another string"
      ],
      "metadata": {
        "id": "3tQeGvb69JBU"
      }
    },
    {
      "cell_type": "code",
      "source": [
        "def find_substring_occurrences(main_string, substring):\n",
        "    occurrences = []\n",
        "    start = 0\n",
        "\n",
        "    while True:\n",
        "        start = main_string.find(substring, start)\n",
        "        if start == -1:  # No more occurrences found\n",
        "            break\n",
        "        occurrences.append(start)\n",
        "        start += 1  # Move past the last found substring\n",
        "\n",
        "    return occurrences\n",
        "\n",
        "# Example usage\n",
        "main_string = \"This is a test string to test substring finding.\"\n",
        "substring = \"test\"\n",
        "result = find_substring_occurrences(main_string, substring)\n",
        "print(\"Occurrences of substring:\", result)\n"
      ],
      "metadata": {
        "colab": {
          "base_uri": "https://localhost:8080/"
        },
        "id": "OIntiO9gtgGo",
        "outputId": "862cd650-47db-4a99-bbd5-63bdd04e4227"
      },
      "execution_count": null,
      "outputs": [
        {
          "output_type": "stream",
          "name": "stdout",
          "text": [
            "Occurrences of substring: [10, 25]\n"
          ]
        }
      ]
    },
    {
      "cell_type": "markdown",
      "source": [
        "## Q6\n",
        "\n",
        "## Write a code to perform basic string compression using the counts of repeated characters"
      ],
      "metadata": {
        "id": "HIhOAMsVt7zC"
      }
    },
    {
      "cell_type": "code",
      "source": [
        "def compress_string(s):\n",
        "  compressed = []\n",
        "  count = 1\n",
        "  for i in range(1 , len(s)):\n",
        "    if s[i] == s[i-1]:\n",
        "      count +=1\n",
        "    else:\n",
        "      compressed.append(s[i-1] + str(count))\n",
        "      count = 1\n",
        "  compressed.append(s[-1] + str(count))\n",
        "  compressed_string = ''.join(compressed)\n",
        "  return compressed_string if len(compressed_string) < len(s) else s"
      ],
      "metadata": {
        "id": "jep59lM8iQny"
      },
      "execution_count": null,
      "outputs": []
    },
    {
      "cell_type": "code",
      "source": [
        "input_string = \"aabcccccaaa\"\n",
        "compressed = compress_string(input_string)\n",
        "print(compressed)\n"
      ],
      "metadata": {
        "colab": {
          "base_uri": "https://localhost:8080/"
        },
        "id": "enGRSmt-jSRA",
        "outputId": "b3ad639c-6a97-444d-be98-7e9d0419d9ac"
      },
      "execution_count": null,
      "outputs": [
        {
          "output_type": "stream",
          "name": "stdout",
          "text": [
            "a2b1c5a3\n"
          ]
        }
      ]
    },
    {
      "cell_type": "code",
      "source": [
        "input_string = \"Goooooooood mmmmmmmooooorningggggg!!\"\n",
        "compressed = compress_string(input_string)\n",
        "print(compressed)\n"
      ],
      "metadata": {
        "colab": {
          "base_uri": "https://localhost:8080/"
        },
        "id": "J1BY0pSBjVZJ",
        "outputId": "28aaf60d-1ce6-4020-a09e-41f17e5768cd"
      },
      "execution_count": null,
      "outputs": [
        {
          "output_type": "stream",
          "name": "stdout",
          "text": [
            "G1o9d1 1m7o5r1n1i1n1g6!2\n"
          ]
        }
      ]
    },
    {
      "cell_type": "markdown",
      "source": [
        "## Q7\n",
        "\n",
        "## Write a code to determine if a string has all unique characters"
      ],
      "metadata": {
        "id": "dX0gPVR0mOS9"
      }
    },
    {
      "cell_type": "code",
      "source": [
        "def unique_characters(s):\n",
        "  seen_character = set()\n",
        "  for char in s:\n",
        "    if char in seen_character:\n",
        "      return False\n",
        "    seen_character.add(char)\n",
        "  return True"
      ],
      "metadata": {
        "id": "ToGTbSh-ndNW"
      },
      "execution_count": null,
      "outputs": []
    },
    {
      "cell_type": "code",
      "source": [
        "input_str = \"hello\"\n",
        "result = unique_characters(input_str)\n",
        "print(result)"
      ],
      "metadata": {
        "colab": {
          "base_uri": "https://localhost:8080/"
        },
        "id": "vbxbEvNToEN6",
        "outputId": "3d8fca6e-adf0-4a49-f545-82d461dc8a96"
      },
      "execution_count": null,
      "outputs": [
        {
          "output_type": "stream",
          "name": "stdout",
          "text": [
            "False\n"
          ]
        }
      ]
    },
    {
      "cell_type": "code",
      "source": [
        "input_str = \"abcdef\"\n",
        "result = unique_characters(input_str)\n",
        "print(result)"
      ],
      "metadata": {
        "colab": {
          "base_uri": "https://localhost:8080/"
        },
        "id": "abOFwz4roc-6",
        "outputId": "cf486496-4e55-4b7a-ebe4-1f3393bc590d"
      },
      "execution_count": null,
      "outputs": [
        {
          "output_type": "stream",
          "name": "stdout",
          "text": [
            "True\n"
          ]
        }
      ]
    },
    {
      "cell_type": "markdown",
      "source": [
        "## Q8\n",
        "\n",
        "## Write a code to convert a given string to uppercase or lowercase"
      ],
      "metadata": {
        "id": "ZcpWO2aio-8z"
      }
    },
    {
      "cell_type": "code",
      "source": [
        "def convert_string(s , to_upper = True):\n",
        "  if to_upper:\n",
        "    return s.upper()\n",
        "  else:\n",
        "    return s.lower()"
      ],
      "metadata": {
        "id": "1tJsP4aopFj1"
      },
      "execution_count": null,
      "outputs": []
    },
    {
      "cell_type": "code",
      "source": [
        "input_string = \"Hello India\"\n",
        "\n",
        "uppercase_string = convert_string(input_string, to_upper=True)\n",
        "print(uppercase_string)\n",
        "\n",
        "\n",
        "lowercase_string = convert_string(input_string, to_upper=False)\n",
        "print(lowercase_string)"
      ],
      "metadata": {
        "colab": {
          "base_uri": "https://localhost:8080/"
        },
        "id": "3S0XKy88qKw8",
        "outputId": "abca2312-7992-4196-d056-daeb66d76974"
      },
      "execution_count": null,
      "outputs": [
        {
          "output_type": "stream",
          "name": "stdout",
          "text": [
            "HELLO INDIA\n",
            "hello india\n"
          ]
        }
      ]
    },
    {
      "cell_type": "code",
      "source": [],
      "metadata": {
        "id": "FxDnFgUgqUsg"
      },
      "execution_count": null,
      "outputs": []
    },
    {
      "cell_type": "markdown",
      "source": [
        "## Q9\n",
        "\n",
        "## Write a code to count the number of words in a string"
      ],
      "metadata": {
        "id": "NCoCV6Str-OW"
      }
    },
    {
      "cell_type": "code",
      "source": [
        "def count_words(s):\n",
        "  words = s.split()\n",
        "  return len(words)"
      ],
      "metadata": {
        "id": "oVtjjAm6sT2c"
      },
      "execution_count": null,
      "outputs": []
    },
    {
      "cell_type": "code",
      "source": [
        "input_string = \"Hello, how are you doing today?\"\n",
        "word_count = count_words(input_string)\n",
        "print(word_count)"
      ],
      "metadata": {
        "colab": {
          "base_uri": "https://localhost:8080/"
        },
        "id": "jR_8vu5QscgL",
        "outputId": "099339dd-68ac-4ec9-ec42-882beab79cba"
      },
      "execution_count": null,
      "outputs": [
        {
          "output_type": "stream",
          "name": "stdout",
          "text": [
            "6\n"
          ]
        }
      ]
    },
    {
      "cell_type": "code",
      "source": [
        "input_string = \"I am learning Python\"\n",
        "word_count = count_words(input_string)\n",
        "print(word_count)"
      ],
      "metadata": {
        "colab": {
          "base_uri": "https://localhost:8080/"
        },
        "id": "pRcjUOwUuwsm",
        "outputId": "e1f34825-2690-4355-a7bc-07c270e6ad08"
      },
      "execution_count": null,
      "outputs": [
        {
          "output_type": "stream",
          "name": "stdout",
          "text": [
            "4\n"
          ]
        }
      ]
    },
    {
      "cell_type": "markdown",
      "source": [
        "## Q10\n",
        "\n",
        "## Write a code to concatenate two strings without using the + operator"
      ],
      "metadata": {
        "id": "8-py-w7kshLZ"
      }
    },
    {
      "cell_type": "code",
      "source": [
        "def concat_strings(s1,s2):\n",
        "  return ''.join([s1,s2])"
      ],
      "metadata": {
        "id": "zuwShJTNuIjY"
      },
      "execution_count": null,
      "outputs": []
    },
    {
      "cell_type": "code",
      "source": [
        "s1 = \"sachin\"\n",
        "s2=\"bg\"\n",
        "concat_strings(s1,s2)"
      ],
      "metadata": {
        "colab": {
          "base_uri": "https://localhost:8080/",
          "height": 35
        },
        "id": "ARpiKi1DuThj",
        "outputId": "9ee837a6-f354-45ea-e768-7ecacc6370e8"
      },
      "execution_count": null,
      "outputs": [
        {
          "output_type": "execute_result",
          "data": {
            "text/plain": [
              "'sachinbg'"
            ],
            "application/vnd.google.colaboratory.intrinsic+json": {
              "type": "string"
            }
          },
          "metadata": {},
          "execution_count": 37
        }
      ]
    },
    {
      "cell_type": "markdown",
      "source": [
        "## Q11\n",
        "\n",
        "## Write a code to remove all occurrences of a specific element from a list"
      ],
      "metadata": {
        "id": "E9BU6SxQuu6H"
      }
    },
    {
      "cell_type": "code",
      "source": [
        "def remove_element(l , elem):\n",
        "  return [x for x in l if x != elem]"
      ],
      "metadata": {
        "id": "gvd8rXiowV0l"
      },
      "execution_count": null,
      "outputs": []
    },
    {
      "cell_type": "code",
      "source": [
        "input_list = [1, 2, 3, 4, 3, 5, 3, 6]\n",
        "element_to_remove = 3\n",
        "result = remove_element(input_list, element_to_remove)\n",
        "print(result)"
      ],
      "metadata": {
        "colab": {
          "base_uri": "https://localhost:8080/"
        },
        "id": "GE9KSbAUwosK",
        "outputId": "3d15c909-9803-4b7b-a9bf-2cc9656f7a4b"
      },
      "execution_count": null,
      "outputs": [
        {
          "output_type": "stream",
          "name": "stdout",
          "text": [
            "[1, 2, 4, 5, 6]\n"
          ]
        }
      ]
    },
    {
      "cell_type": "markdown",
      "source": [
        "## Q12\n",
        "\n",
        "## Implement a code to find the second largest number in a given list of integers"
      ],
      "metadata": {
        "id": "-mKu-mPGxqDn"
      }
    },
    {
      "cell_type": "code",
      "source": [
        "def second_largest(s):\n",
        "  if len(s)<2:\n",
        "    return None\n",
        "  unique_numbers = list(set(s))\n",
        "  if len(s) <2:\n",
        "    return None\n",
        "  unique_numbers.sort(reverse=True)\n",
        "  return unique_numbers[1]\n"
      ],
      "metadata": {
        "id": "0QrkbapGyUlq"
      },
      "execution_count": null,
      "outputs": []
    },
    {
      "cell_type": "code",
      "source": [
        "numbers = [4, 1, 7, 2, 9, 7, 4]\n",
        "second_largest = second_largest(numbers)\n",
        "print(\"The second largest number is:\", second_largest)"
      ],
      "metadata": {
        "colab": {
          "base_uri": "https://localhost:8080/"
        },
        "id": "tJLxUecZIzVR",
        "outputId": "2c9d3107-e63c-4311-99cc-989eac2d705d"
      },
      "execution_count": null,
      "outputs": [
        {
          "output_type": "stream",
          "name": "stdout",
          "text": [
            "The second largest number is: 7\n"
          ]
        }
      ]
    },
    {
      "cell_type": "markdown",
      "source": [
        "#Q13\n",
        "\n",
        "# Create a code to count the occurrences of each element in a list and return a dictionary with elements as keys and their counts as values"
      ],
      "metadata": {
        "id": "01WOxA4YUR_E"
      }
    },
    {
      "cell_type": "code",
      "source": [
        "def occurence_count(l):\n",
        "  d = {}\n",
        "  for elem in l:\n",
        "    if elem in d:\n",
        "      d[elem] +=1\n",
        "    else:\n",
        "      d[elem] = 1\n",
        "  return d\n"
      ],
      "metadata": {
        "id": "anT4lyu3UaN0"
      },
      "execution_count": null,
      "outputs": []
    },
    {
      "cell_type": "code",
      "source": [
        "example_list = ['apple', 'banana', 'apple', 'orange', 'banana', 'apple']\n",
        "result = occurence_count(example_list)\n",
        "print(result)"
      ],
      "metadata": {
        "colab": {
          "base_uri": "https://localhost:8080/"
        },
        "id": "x3MoidvBUaE-",
        "outputId": "1f3685bd-59e1-49eb-b891-d07aa9da938d"
      },
      "execution_count": null,
      "outputs": [
        {
          "output_type": "stream",
          "name": "stdout",
          "text": [
            "{'apple': 3, 'banana': 2, 'orange': 1}\n"
          ]
        }
      ]
    },
    {
      "cell_type": "markdown",
      "source": [
        "# Q14\n",
        "\n",
        "# Write a code to reverse a list in place without using any built in reverse function"
      ],
      "metadata": {
        "id": "81yFBnYiVyel"
      }
    },
    {
      "cell_type": "code",
      "source": [
        "def reverse(lst):\n",
        "  new_lst = lst[::-1]\n",
        "  return new_lst"
      ],
      "metadata": {
        "id": "DVdZfnO9UZ1A"
      },
      "execution_count": null,
      "outputs": []
    },
    {
      "cell_type": "code",
      "source": [
        "lst = [ 10,11,12,13,14]\n",
        "reverse(lst)"
      ],
      "metadata": {
        "colab": {
          "base_uri": "https://localhost:8080/"
        },
        "id": "STH3o2Z2Y3Bk",
        "outputId": "9fc70257-148d-4295-b1ab-92d3b3c9fc39"
      },
      "execution_count": null,
      "outputs": [
        {
          "output_type": "execute_result",
          "data": {
            "text/plain": [
              "[14, 13, 12, 11, 10]"
            ]
          },
          "metadata": {},
          "execution_count": 5
        }
      ]
    },
    {
      "cell_type": "markdown",
      "source": [
        "# Q15\n",
        "\n",
        "# Implement a code to find and remove duplicates from a list while preserving the original order of elements"
      ],
      "metadata": {
        "id": "r-SjUMrKY-BP"
      }
    },
    {
      "cell_type": "code",
      "source": [
        "def remove_duplicates(Original_list):\n",
        "  New_list_with_order = list(set(Original_list))\n",
        "  return New_list_with_order\n"
      ],
      "metadata": {
        "id": "_bWyyk-7ayNr"
      },
      "execution_count": null,
      "outputs": []
    },
    {
      "cell_type": "code",
      "source": [
        "Original_list = [1,2,2,3,3,3,3,5,5,6,6,7,8,8]\n",
        "remove_duplicates(Original_list)"
      ],
      "metadata": {
        "colab": {
          "base_uri": "https://localhost:8080/"
        },
        "id": "0kC9-kkPbeFB",
        "outputId": "27664e8a-376a-407d-b6ca-7ceee06c7bda"
      },
      "execution_count": null,
      "outputs": [
        {
          "output_type": "execute_result",
          "data": {
            "text/plain": [
              "[1, 2, 3, 5, 6, 7, 8]"
            ]
          },
          "metadata": {},
          "execution_count": 7
        }
      ]
    },
    {
      "cell_type": "markdown",
      "source": [
        "# Q16\n",
        "\n",
        "# Create a code to check if a given list is sorted (either in ascending or descending order) or not"
      ],
      "metadata": {
        "id": "98L70ngJbyy-"
      }
    },
    {
      "cell_type": "code",
      "source": [
        "def is_sorted(input_list):\n",
        "  ascending = True\n",
        "  descending = True\n",
        "\n",
        "  for i in range(len(input_list) -1):\n",
        "    if input_list[i] > input_list[i+1]:\n",
        "      ascending = False\n",
        "    if input_list[i] < input_list[i+1]:\n",
        "      descending = False\n",
        "\n",
        "\n",
        "  if ascending :\n",
        "    return \"This list is sorted in ascending order\"\n",
        "  elif descending:\n",
        "    return \"This list is sorted in descending order\"\n",
        "  else:\n",
        "    return \"This list is not sorted\""
      ],
      "metadata": {
        "id": "xxOupLZUeli_"
      },
      "execution_count": null,
      "outputs": []
    },
    {
      "cell_type": "code",
      "source": [
        "example_list = [1, 2, 3, 4, 5]\n",
        "print(is_sorted(example_list))"
      ],
      "metadata": {
        "colab": {
          "base_uri": "https://localhost:8080/"
        },
        "id": "mUd0PTYRf2sz",
        "outputId": "7db52114-d282-40fa-8ed6-1ab338f4d4dc"
      },
      "execution_count": null,
      "outputs": [
        {
          "output_type": "stream",
          "name": "stdout",
          "text": [
            "This list is sorted in ascending order\n"
          ]
        }
      ]
    },
    {
      "cell_type": "code",
      "source": [
        "example_list = [1, 6, 3, 4, 5]\n",
        "print(is_sorted(example_list))"
      ],
      "metadata": {
        "colab": {
          "base_uri": "https://localhost:8080/"
        },
        "id": "VQuCXOQCf_pg",
        "outputId": "5798e333-65df-4d22-8bcf-c5ea9a26bc63"
      },
      "execution_count": null,
      "outputs": [
        {
          "output_type": "stream",
          "name": "stdout",
          "text": [
            "This list is not sorted\n"
          ]
        }
      ]
    },
    {
      "cell_type": "code",
      "source": [
        "example_list = [10,9,8,7,6,4]\n",
        "print(is_sorted(example_list))"
      ],
      "metadata": {
        "colab": {
          "base_uri": "https://localhost:8080/"
        },
        "id": "o2JGznUWgE-r",
        "outputId": "9c6663f6-1f81-49f5-e8cc-2ebe8924e51e"
      },
      "execution_count": null,
      "outputs": [
        {
          "output_type": "stream",
          "name": "stdout",
          "text": [
            "This list is sorted in descending order\n"
          ]
        }
      ]
    },
    {
      "cell_type": "markdown",
      "source": [
        "#Q17\n",
        "\n",
        "# Write a code to merge two sorted lists into a single sorted list"
      ],
      "metadata": {
        "id": "CLEcAaO1GHkg"
      }
    },
    {
      "cell_type": "code",
      "source": [
        "def merged_list(list1 , list2):\n",
        "  i = 0\n",
        "  j = 0\n",
        "  merged_list = []\n",
        "\n",
        "  while i < len(list1) and j < len(list2):\n",
        "    if list1[i] < list2[j]:\n",
        "      merged_list.append(list1[i])\n",
        "      i+=1\n",
        "    else :\n",
        "      merged_list.append(list2[j])\n",
        "      j+=1\n",
        "\n",
        "  while i < len(list1):\n",
        "    merged_list.append(list1[i])\n",
        "    i+=1\n",
        "  while j < len(list2):\n",
        "    merged_list.append(list2[j])\n",
        "    j+=1\n",
        "  return merged_list"
      ],
      "metadata": {
        "id": "eH7yheH2gQmf"
      },
      "execution_count": null,
      "outputs": []
    },
    {
      "cell_type": "code",
      "source": [
        "lis1 = [1,2,5,7,9]\n",
        "lis2 = [3,4,56]\n",
        "merged_list(lis1,lis2)"
      ],
      "metadata": {
        "colab": {
          "base_uri": "https://localhost:8080/"
        },
        "id": "2Jc9MtSLHJ-e",
        "outputId": "c1e4f9db-b6c7-4c4f-cd7f-e7e3cfe44a5c"
      },
      "execution_count": null,
      "outputs": [
        {
          "output_type": "execute_result",
          "data": {
            "text/plain": [
              "[1, 2, 3, 4, 5, 7, 9, 56]"
            ]
          },
          "metadata": {},
          "execution_count": 17
        }
      ]
    },
    {
      "cell_type": "markdown",
      "source": [
        "# Q18\n",
        "\n",
        "# Implement a code to find the intersection of two given lists"
      ],
      "metadata": {
        "id": "Oa7-MjD3MIYx"
      }
    },
    {
      "cell_type": "code",
      "source": [
        "def Intersection(lst1, lst2):\n",
        "    return set(lst1).intersection(lst2)"
      ],
      "metadata": {
        "id": "XJDMqwdgHWMD"
      },
      "execution_count": null,
      "outputs": []
    },
    {
      "cell_type": "code",
      "source": [
        "list1 = [ 1,2,3,4]\n",
        "list2 = [1,2,5,6]\n",
        "\n",
        "Intersection(list1 , list2)"
      ],
      "metadata": {
        "id": "-d1UlYVlNVG6",
        "colab": {
          "base_uri": "https://localhost:8080/"
        },
        "outputId": "df3b43c3-3b32-45a1-e310-4422099e93bc"
      },
      "execution_count": null,
      "outputs": [
        {
          "output_type": "execute_result",
          "data": {
            "text/plain": [
              "{1, 2}"
            ]
          },
          "metadata": {},
          "execution_count": 3
        }
      ]
    },
    {
      "cell_type": "markdown",
      "source": [
        "# Q19\n",
        "\n",
        "#Create code to create the union of two list without duplicates"
      ],
      "metadata": {
        "id": "HozBIW1OgU8-"
      }
    },
    {
      "cell_type": "code",
      "source": [
        "def Union(lst1, lst2):\n",
        "    return set(lst1).union(lst2)"
      ],
      "metadata": {
        "id": "PeYDfoXqgHCT"
      },
      "execution_count": null,
      "outputs": []
    },
    {
      "cell_type": "code",
      "source": [
        "list1 = [ 1,2,3,4]\n",
        "list2 = [1,2,5,6,7,7]\n",
        "Union(list1 , list2)\n"
      ],
      "metadata": {
        "colab": {
          "base_uri": "https://localhost:8080/"
        },
        "id": "g7mgOgr7gxJv",
        "outputId": "075a9779-fdda-4044-a103-f542f01e1b3c"
      },
      "execution_count": null,
      "outputs": [
        {
          "output_type": "execute_result",
          "data": {
            "text/plain": [
              "{1, 2, 3, 4, 5, 6, 7}"
            ]
          },
          "metadata": {},
          "execution_count": 6
        }
      ]
    },
    {
      "cell_type": "markdown",
      "source": [
        "# Q20\n",
        "\n",
        "# Write a code to shuffle a given list randomly without using any  built-in shuffle functions"
      ],
      "metadata": {
        "id": "bqOfeSZtg8pT"
      }
    },
    {
      "cell_type": "code",
      "source": [
        "import random\n",
        "\n",
        "arr = [1, 2, 3, 4, 5, 6]\n",
        "\n",
        "print(\"Original List: \", arr)\n",
        "n = len(arr)\n",
        "for i in range(n):\n",
        "    j = random.randint(0, n-1)\n",
        "    element = arr.pop(j)\n",
        "    arr.append(element)\n",
        "\n",
        "print(\"Shuffled List: \", arr)"
      ],
      "metadata": {
        "colab": {
          "base_uri": "https://localhost:8080/"
        },
        "id": "1DfbnCaqg117",
        "outputId": "406eecb9-1c9d-487d-8f53-7847d592e748"
      },
      "execution_count": null,
      "outputs": [
        {
          "output_type": "stream",
          "name": "stdout",
          "text": [
            "Original List:  [1, 2, 3, 4, 5, 6]\n",
            "Shuffled List:  [4, 3, 5, 2, 1, 6]\n"
          ]
        }
      ]
    },
    {
      "cell_type": "code",
      "source": [],
      "metadata": {
        "id": "TEaaXbHYmwVB"
      },
      "execution_count": null,
      "outputs": []
    },
    {
      "cell_type": "markdown",
      "source": [
        "# Q21\n",
        "\n",
        "# Write a code that takes two tuples as input and returns a new tuple containing elements that are common to both input tuples"
      ],
      "metadata": {
        "id": "emcEudJKm8bt"
      }
    },
    {
      "cell_type": "code",
      "source": [
        "def common_elements(t1,t2):\n",
        "  common = set(t1) & set(t2)\n",
        "  return tuple(common)"
      ],
      "metadata": {
        "id": "hrcOk34zuhKG"
      },
      "execution_count": null,
      "outputs": []
    },
    {
      "cell_type": "code",
      "source": [
        "t1 = (1,2,3,4,5)\n",
        "t2 = (4,5,6,7,7,7)\n",
        "\n",
        "common_elements(t1,t2)"
      ],
      "metadata": {
        "colab": {
          "base_uri": "https://localhost:8080/"
        },
        "id": "REXyquIVu6nQ",
        "outputId": "e5661867-4c9a-480e-96f3-35545bd2343c"
      },
      "execution_count": null,
      "outputs": [
        {
          "output_type": "execute_result",
          "data": {
            "text/plain": [
              "(4, 5)"
            ]
          },
          "metadata": {},
          "execution_count": 4
        }
      ]
    },
    {
      "cell_type": "markdown",
      "source": [
        "# Q22\n",
        "\n",
        "# Create a code that prompts the user to enter two sets of integers separated by commas. Then, print the intersection of these two sets"
      ],
      "metadata": {
        "id": "cgzpi4yovUup"
      }
    },
    {
      "cell_type": "code",
      "source": [
        "def get_set_from_input(prompt):\n",
        "  return set(map(int, input(prompt).split(',')))\n",
        "\n",
        "\n",
        "set1 = get_set_from_input(\"Enter the first set of integers, separated by commas: \")\n",
        "set2 = get_set_from_input(\"Enter the second set of integers, separated by commas: \")\n",
        "\n",
        "intersection = set1 & set2\n",
        "print(f\"The intersection of the two sets is: {intersection}\")"
      ],
      "metadata": {
        "colab": {
          "base_uri": "https://localhost:8080/"
        },
        "id": "rafVhH6wvFeE",
        "outputId": "84ec3d6f-40a6-429a-9f8f-390ada6fd21c"
      },
      "execution_count": null,
      "outputs": [
        {
          "output_type": "stream",
          "name": "stdout",
          "text": [
            "Enter the first set of integers, separated by commas: 1,2,3,4,5,6\n",
            "Enter the second set of integers, separated by commas: 4,5,6,11,21\n",
            "The intersection of the two sets is: {4, 5, 6}\n"
          ]
        }
      ]
    },
    {
      "cell_type": "markdown",
      "source": [
        "# Q23\n",
        "\n",
        "# Write a code to concatenate two tuples. The function should take two tuples as input and return a new tuple containing elements from both input tuples."
      ],
      "metadata": {
        "id": "eT7lmTbS2vr4"
      }
    },
    {
      "cell_type": "code",
      "source": [
        "def concat_tupl(t1,t2):\n",
        "  return t1+t2"
      ],
      "metadata": {
        "id": "ImDFj_mbfM4g"
      },
      "execution_count": null,
      "outputs": []
    },
    {
      "cell_type": "code",
      "source": [
        "t1= (1,2,3,4,5)\n",
        "t2 = (5,6,7,8,9)\n",
        "concat_tupl(t1,t2)"
      ],
      "metadata": {
        "colab": {
          "base_uri": "https://localhost:8080/"
        },
        "id": "v9qmyivRgeTw",
        "outputId": "526f70c2-2752-4d65-aaaa-7d78362bdf01"
      },
      "execution_count": null,
      "outputs": [
        {
          "output_type": "execute_result",
          "data": {
            "text/plain": [
              "(1, 2, 3, 4, 5, 5, 6, 7, 8, 9)"
            ]
          },
          "metadata": {},
          "execution_count": 3
        }
      ]
    },
    {
      "cell_type": "code",
      "source": [],
      "metadata": {
        "id": "Uw5HsKuygo2C"
      },
      "execution_count": null,
      "outputs": []
    },
    {
      "cell_type": "markdown",
      "source": [
        "# Q24\n",
        "\n",
        "# Develop a code that prompts the user to input two sets of strings. Then, print the elements that are present in the first set but not in the second set"
      ],
      "metadata": {
        "id": "vH6UzK2hgrXD"
      }
    },
    {
      "cell_type": "code",
      "source": [
        "def input_set(prompt):\n",
        "  return set(input(prompt).split())\n",
        "\n",
        "def print_difference(set1,set2):\n",
        "  return set1-set2\n",
        "\n",
        "set1 = input_set(\"Enter elements of the first set, separated by spaces: \")\n",
        "set2 = input_set(\"Enter elements of the second set, separated by spaces: \")\n",
        "print_difference(set1,set2)"
      ],
      "metadata": {
        "colab": {
          "base_uri": "https://localhost:8080/"
        },
        "id": "VwTMIrrGhpBl",
        "outputId": "d795ceac-8e27-4bd1-c5ca-d30372ea313f"
      },
      "execution_count": null,
      "outputs": [
        {
          "name": "stdout",
          "output_type": "stream",
          "text": [
            "Enter elements of the first set, separated by spaces: A,B,C\n",
            "Enter elements of the second set, separated by spaces: B,V\n"
          ]
        },
        {
          "output_type": "execute_result",
          "data": {
            "text/plain": [
              "{'A,B,C'}"
            ]
          },
          "metadata": {},
          "execution_count": 14
        }
      ]
    },
    {
      "cell_type": "code",
      "source": [],
      "metadata": {
        "id": "mytD4-5BlW3g"
      },
      "execution_count": null,
      "outputs": []
    },
    {
      "cell_type": "markdown",
      "source": [
        "# Q25\n",
        "\n",
        "# Create a code that takes a tuple and two integers as input. The function should return a new tuple containing elements from the original tuple within the specified range of indices"
      ],
      "metadata": {
        "id": "_3rb5wLatS_t"
      }
    },
    {
      "cell_type": "code",
      "source": [
        "def slice_tuple(input_tuple, start_idx ,end_idx):\n",
        "  return input_tuple[start_idx:end_idx]"
      ],
      "metadata": {
        "id": "se6MySeOe2CJ"
      },
      "execution_count": null,
      "outputs": []
    },
    {
      "cell_type": "code",
      "source": [
        "input_tuple = (10, 20, 30, 40, 50, 60, 70)\n",
        "start_idx = int(input(\"Enter the starting index: \"))\n",
        "end_idx = int(input(\"Enter the ending index: \"))\n",
        "\n",
        "result = slice_tuple(input_tuple, start_idx, end_idx)\n",
        "print(\"Sliced tuple:\", result)"
      ],
      "metadata": {
        "colab": {
          "base_uri": "https://localhost:8080/"
        },
        "id": "qDazsHV3fPZb",
        "outputId": "e813b75f-9a20-43ae-a529-2c37cbbceb1c"
      },
      "execution_count": null,
      "outputs": [
        {
          "output_type": "stream",
          "name": "stdout",
          "text": [
            "Enter the starting index: 2\n",
            "Enter the ending index: 5\n",
            "Sliced tuple: (30, 40, 50)\n"
          ]
        }
      ]
    },
    {
      "cell_type": "markdown",
      "source": [
        "# Q26\n",
        "\n",
        "# Write a code that prompts the user to input two sets of characters. Then, print the union of these two sets"
      ],
      "metadata": {
        "id": "mbOt-_-vfoJ9"
      }
    },
    {
      "cell_type": "code",
      "source": [
        "def input_set(prompt):\n",
        "  return set(input(prompt))\n",
        "\n",
        "def union_of_set(set1,set2):\n",
        "  return set1 | set2\n",
        "\n",
        "set1 = input_set(\"Enter characters for the first set (no spaces needed): \")\n",
        "set2 = input_set(\"Enter characters for the second set (no spaces needed): \")\n",
        "\n",
        "result = union_of_set(set1, set2)\n",
        "print(\"Union of the two sets:\", result)"
      ],
      "metadata": {
        "colab": {
          "base_uri": "https://localhost:8080/"
        },
        "id": "4BvNRtPxgDq1",
        "outputId": "6f9f514e-6f4c-42e0-8539-6461ab96ea76"
      },
      "execution_count": null,
      "outputs": [
        {
          "output_type": "stream",
          "name": "stdout",
          "text": [
            "Enter characters for the first set (no spaces needed): abcdef\n",
            "Enter characters for the second set (no spaces needed): ghijkl\n",
            "Union of the two sets: {'j', 'e', 'c', 'k', 'd', 'i', 'a', 'f', 'l', 'h', 'g', 'b'}\n"
          ]
        }
      ]
    },
    {
      "cell_type": "markdown",
      "source": [
        "# Q27\n",
        "\n",
        "# Develop a code that takes a tuple of integers as input. The function should return the maximum and minimum values from the tuple using tuple unpacking"
      ],
      "metadata": {
        "id": "R3pt_ATNhatp"
      }
    },
    {
      "cell_type": "code",
      "source": [
        "def find_min_max(input_tuple):\n",
        "  min_value = min(input_tuple)\n",
        "  max_value = max(input_tuple)\n",
        "\n",
        "  return min_value,max_value\n",
        "\n",
        "input_tuple = tuple(map(int,input(\"Enter integers seperated by spaces:\").split()))\n",
        "\n",
        "min_value,max_value = find_min_max(input_tuple)\n",
        "print(f\"Minimum Value: {min_value}\")\n",
        "print(f\"Maximum Value: {max_value}\")"
      ],
      "metadata": {
        "colab": {
          "base_uri": "https://localhost:8080/"
        },
        "id": "rmH071B8h2dp",
        "outputId": "83626283-4c0c-47ce-884d-e28e6e3b2764"
      },
      "execution_count": null,
      "outputs": [
        {
          "output_type": "stream",
          "name": "stdout",
          "text": [
            "Enter integers seperated by spaces:1 2 3 45 65 768\n",
            "Minimum Value: 1\n",
            "Maximum Value: 768\n"
          ]
        }
      ]
    },
    {
      "cell_type": "markdown",
      "source": [
        "# Q28\n",
        "\n",
        "# Create a code that defines two sets of integers. Then, print the union, intersection, and difference of these two sets"
      ],
      "metadata": {
        "id": "gQJKNQ9jjY7C"
      }
    },
    {
      "cell_type": "code",
      "source": [
        "def set_operations(set1, set2):\n",
        "\n",
        "    union = set1 | set2\n",
        "    intersection = set1 & set2\n",
        "    difference = set1 - set2\n",
        "\n",
        "    return union, intersection, difference\n",
        "\n",
        "\n",
        "set1 = {1, 2, 3, 4, 5}\n",
        "set2 = {4, 5, 6, 7, 8}\n",
        "\n",
        "\n",
        "union, intersection, difference = set_operations(set1, set2)\n",
        "\n",
        "\n",
        "print(f\"Union of the sets: {union}\")\n",
        "print(f\"Intersection of the sets: {intersection}\")\n",
        "print(f\"Difference of the sets (set1 - set2): {difference}\")\n"
      ],
      "metadata": {
        "colab": {
          "base_uri": "https://localhost:8080/"
        },
        "id": "3KceIJ3ljhKT",
        "outputId": "5acc1ff6-c054-440e-e3df-1ca88ffb999d"
      },
      "execution_count": null,
      "outputs": [
        {
          "output_type": "stream",
          "name": "stdout",
          "text": [
            "Union of the sets: {1, 2, 3, 4, 5, 6, 7, 8}\n",
            "Intersection of the sets: {4, 5}\n",
            "Difference of the sets (set1 - set2): {1, 2, 3}\n"
          ]
        }
      ]
    },
    {
      "cell_type": "markdown",
      "source": [
        "# Q29\n",
        "\n",
        "# Write a code that takes a tuple and an element as input. The function should return the count of occurrences of the given element in the tuple"
      ],
      "metadata": {
        "id": "mJI2dePPlJ7g"
      }
    },
    {
      "cell_type": "code",
      "source": [
        "def count_element(input_tuple, element):\n",
        "\n",
        "    return input_tuple.count(element)\n",
        "\n",
        "input_tuple = tuple(map(int, input(\"Enter integers separated by spaces: \").split()))\n",
        "element = int(input(\"Enter the element to count: \"))\n",
        "\n",
        "\n",
        "count = count_element(input_tuple, element)\n",
        "print(f\"The element {element} occurs {count} times in the tuple.\")\n"
      ],
      "metadata": {
        "colab": {
          "base_uri": "https://localhost:8080/"
        },
        "id": "ub2q8bxalgR_",
        "outputId": "4a2227ea-07a0-4d3c-bf61-9280b4a282eb"
      },
      "execution_count": null,
      "outputs": [
        {
          "output_type": "stream",
          "name": "stdout",
          "text": [
            "Enter integers separated by spaces: 1 2 3 4 5 6 7 7 7 7 6 5 5 4 5\n",
            "Enter the element to count: 7\n",
            "The element 7 occurs 4 times in the tuple.\n"
          ]
        }
      ]
    },
    {
      "cell_type": "markdown",
      "source": [
        "# Q30\n",
        "\n",
        "# Develop a code that prompts the user to input two sets of strings. Then, print the symmetric difference of these two sets"
      ],
      "metadata": {
        "id": "KOTvzTJ5lr0t"
      }
    },
    {
      "cell_type": "code",
      "source": [
        "def input_set(prompt):\n",
        "  return set(input(prompt).split())\n",
        "\n",
        "def symmetric(set1,set2):\n",
        "  return set1 ^ set2\n",
        "\n",
        "set1 = input_set(\"Enter the elements of the first set , seperated by spaces:\")\n",
        "set2 = input_set(\"Enter the elements of the second set , seperated by spaces:\")\n",
        "\n",
        "result = symmetric(set1,set2)\n",
        "print(\"Symetric difference of the two sets:\", result)"
      ],
      "metadata": {
        "colab": {
          "base_uri": "https://localhost:8080/"
        },
        "id": "NJgs7H3Ml-O3",
        "outputId": "1e4d1dd6-c73a-46d6-b959-84172a836764"
      },
      "execution_count": null,
      "outputs": [
        {
          "output_type": "stream",
          "name": "stdout",
          "text": [
            "Enter the elements of the first set , seperated by spaces:apple banana orange\n",
            "Enter the elements of the second set , seperated by spaces:apple banana cherry\n",
            "Symetric difference of the two sets: {'cherry', 'orange'}\n"
          ]
        }
      ]
    },
    {
      "cell_type": "markdown",
      "source": [
        "# Q31\n",
        "\n",
        "# Write a code that takes a list of words as input and returns a dictionary where the keys are unique words and the values are the frequencies of those words in the input list"
      ],
      "metadata": {
        "id": "8rdvNccd-Wxd"
      }
    },
    {
      "cell_type": "code",
      "source": [
        "def word_frequency(word_list):\n",
        "  frequency_dict = {}\n",
        "\n",
        "  for word in word_list:\n",
        "    if word in frequency_dict:\n",
        "      frequency_dict[word] +=1\n",
        "    else:\n",
        "      frequency_dict[word] =1\n",
        "  return frequency_dict"
      ],
      "metadata": {
        "id": "cvrjGhEN-pNj"
      },
      "execution_count": 3,
      "outputs": []
    },
    {
      "cell_type": "code",
      "source": [
        "words = ['apple', 'banana', 'apple', 'orange', 'banana', 'apple']\n",
        "\n",
        "word_frequency(words)"
      ],
      "metadata": {
        "colab": {
          "base_uri": "https://localhost:8080/"
        },
        "id": "vrEe-GhC_eVG",
        "outputId": "ffc86b38-faac-435f-c57d-30777dde9d08"
      },
      "execution_count": 4,
      "outputs": [
        {
          "output_type": "execute_result",
          "data": {
            "text/plain": [
              "{'apple': 3, 'banana': 2, 'orange': 1}"
            ]
          },
          "metadata": {},
          "execution_count": 4
        }
      ]
    },
    {
      "cell_type": "markdown",
      "source": [
        "# Q32\n",
        "\n",
        "# Write a code that takes two dictionaries as input and merges them into a single dictionary. If there are common keys, the values should be added together"
      ],
      "metadata": {
        "id": "bgrtvJqSAT-X"
      }
    },
    {
      "cell_type": "code",
      "source": [
        "def merge_dict(dict1,dict2):\n",
        "  merged_dictionaries = dict1.copy()\n",
        "\n",
        "  for key , value in dict2.items():\n",
        "    if key in merged_dictionaries:\n",
        "      merged_dictionaries[key] += value\n",
        "    else :\n",
        "      merged_dictionaries[key] = value\n",
        "\n",
        "  return merged_dictionaries"
      ],
      "metadata": {
        "id": "C789dBpYA8X4"
      },
      "execution_count": 5,
      "outputs": []
    },
    {
      "cell_type": "code",
      "source": [
        "dict1 = {'a': 10, 'b': 20, 'c': 30 , 'd':70}\n",
        "dict2 = {'b': 15, 'c': 25, 'd': 40}\n",
        "\n",
        "merged = merge_dict(dict1,dict2)\n",
        "print(merged)"
      ],
      "metadata": {
        "colab": {
          "base_uri": "https://localhost:8080/"
        },
        "id": "W8SPyLpKBkF-",
        "outputId": "370e1376-4866-4e2e-f7c5-d5d4d891397c"
      },
      "execution_count": 6,
      "outputs": [
        {
          "output_type": "stream",
          "name": "stdout",
          "text": [
            "{'a': 10, 'b': 35, 'c': 55, 'd': 110}\n"
          ]
        }
      ]
    },
    {
      "cell_type": "code",
      "source": [],
      "metadata": {
        "id": "BT6yM3nuCNvk"
      },
      "execution_count": null,
      "outputs": []
    },
    {
      "cell_type": "markdown",
      "source": [
        "# Q33\n",
        "\n",
        "# Write a code to access a value in a nested dictionary. The function should take the dictionary and a list of keys as input, and return the corresponding value. If any of the keys do not exist in the dictionary, the function should return None"
      ],
      "metadata": {
        "id": "HlMZTAn6Cl42"
      }
    },
    {
      "cell_type": "code",
      "source": [
        "def get_nestedvalue(nested_dict,key_list):\n",
        "  current_value = nested_dict\n",
        "\n",
        "  for key in key_list :\n",
        "    if isinstance(current_value , dict) and key in current_value:\n",
        "      current_value = current_value[key]\n",
        "    else:\n",
        "      return None\n",
        "  return current_value"
      ],
      "metadata": {
        "id": "RVNMZu_8DAW3"
      },
      "execution_count": 7,
      "outputs": []
    },
    {
      "cell_type": "code",
      "source": [
        "nested_dict = {\n",
        "    'a': {\n",
        "        'b': {\n",
        "            'c': 42\n",
        "        }\n",
        "    }\n",
        "}\n",
        "\n",
        "keys = ['a', 'b', 'c']\n",
        "value = get_nestedvalue(nested_dict, keys)\n",
        "print(value)"
      ],
      "metadata": {
        "colab": {
          "base_uri": "https://localhost:8080/"
        },
        "id": "4joFhbUvD-dW",
        "outputId": "6ca644e9-38f2-42c4-9175-0472b7700aea"
      },
      "execution_count": 10,
      "outputs": [
        {
          "output_type": "stream",
          "name": "stdout",
          "text": [
            "42\n"
          ]
        }
      ]
    },
    {
      "cell_type": "code",
      "source": [
        "keys = ['a', 'b', 'd']\n",
        "value = get_nestedvalue(nested_dict, keys)\n",
        "print(value)"
      ],
      "metadata": {
        "colab": {
          "base_uri": "https://localhost:8080/"
        },
        "id": "EJ93DFTYEGHr",
        "outputId": "e2aeccc3-0ca9-401c-8b38-b0792ee15896"
      },
      "execution_count": 11,
      "outputs": [
        {
          "output_type": "stream",
          "name": "stdout",
          "text": [
            "None\n"
          ]
        }
      ]
    },
    {
      "cell_type": "markdown",
      "source": [
        "# Q34\n",
        "\n",
        "# Write a code that takes a dictionary as input and returns a sorted version of it based on the values. You can choose whether to sort in ascending or descending order"
      ],
      "metadata": {
        "id": "KLwNN5crESf4"
      }
    },
    {
      "cell_type": "code",
      "source": [
        "def sort_dict_by_value(input_dict, descending=False):\n",
        "\n",
        "    sorted_dict = dict(sorted(input_dict.items(), key=lambda item: item[1], reverse=descending))\n",
        "    return sorted_dict"
      ],
      "metadata": {
        "id": "XgmxRPeBEvpx"
      },
      "execution_count": 12,
      "outputs": []
    },
    {
      "cell_type": "code",
      "source": [
        "my_dict = {'apple': 10, 'banana': 5, 'orange': 20, 'kiwi': 15}\n",
        "\n",
        "sorted_asc = sort_dict_by_value(my_dict)\n",
        "print(\"Ascending:\", sorted_asc)"
      ],
      "metadata": {
        "colab": {
          "base_uri": "https://localhost:8080/"
        },
        "id": "E7Qt8sF5EzXB",
        "outputId": "a4417ad4-6ba0-4fea-d203-75d44dccd79a"
      },
      "execution_count": 13,
      "outputs": [
        {
          "output_type": "stream",
          "name": "stdout",
          "text": [
            "Ascending: {'banana': 5, 'apple': 10, 'kiwi': 15, 'orange': 20}\n"
          ]
        }
      ]
    },
    {
      "cell_type": "markdown",
      "source": [
        "# Q35\n",
        "\n",
        "# Write a code that inverts a dictionary, swapping keys and values. Ensure that the inverted dictionary correctly handles cases where multiple keys have the same value by storing the keys as a list in the inverted dictionary."
      ],
      "metadata": {
        "id": "y9aGoemnFLWZ"
      }
    },
    {
      "cell_type": "code",
      "source": [
        "def invert_dict(input_dict):\n",
        "    inverted_dict = {}\n",
        "\n",
        "    for key, value in input_dict.items():\n",
        "        if value in inverted_dict:\n",
        "            inverted_dict[value].append(key)\n",
        "        else:\n",
        "            inverted_dict[value] = [key]\n",
        "    return inverted_dict"
      ],
      "metadata": {
        "id": "Qtpyu1R6FjdW"
      },
      "execution_count": 14,
      "outputs": []
    },
    {
      "cell_type": "code",
      "source": [
        "my_dict = {'apple': 10, 'banana': 5, 'orange': 10, 'kiwi': 15}\n",
        "\n",
        "inverted = invert_dict(my_dict)\n",
        "print(inverted)"
      ],
      "metadata": {
        "colab": {
          "base_uri": "https://localhost:8080/"
        },
        "id": "YhFpm-BsFm7j",
        "outputId": "8326c2c4-b034-4c24-cec7-fc08699cf19a"
      },
      "execution_count": 15,
      "outputs": [
        {
          "output_type": "stream",
          "name": "stdout",
          "text": [
            "{10: ['apple', 'orange'], 5: ['banana'], 15: ['kiwi']}\n"
          ]
        }
      ]
    }
  ]
}